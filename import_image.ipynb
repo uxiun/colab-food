{
 "cells": [
  {
   "cell_type": "code",
   "execution_count": null,
   "metadata": {},
   "outputs": [],
   "source": [
    "# import numpy as np\n",
    "# import os\n",
    "import PIL\n",
    "import PIL.Image\n",
    "# import tensorflow as tf\n",
    "# import tensorflow_datasets as tfds\n",
    "\n",
    "import pathlib\n",
    "\n",
    "data_dir = pathlib.Path(\"small\")\n",
    "images = list(data_dir.glob(\"*.jpg\"))\n",
    "\n",
    "image_count = len(images)\n",
    "print(image_count)\n",
    "\n",
    "PIL.Image.open(str(images[8]))"
   ]
  }
 ],
 "metadata": {
  "language_info": {
   "name": "python"
  }
 },
 "nbformat": 4,
 "nbformat_minor": 2
}
